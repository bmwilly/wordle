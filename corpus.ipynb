{
 "cells": [
  {
   "cell_type": "code",
   "execution_count": 1,
   "id": "009b3147-01fe-4418-b497-4634593a4c28",
   "metadata": {},
   "outputs": [],
   "source": [
    "%load_ext autoreload\n",
    "%autoreload 2"
   ]
  },
  {
   "cell_type": "code",
   "execution_count": 2,
   "id": "3ffadd7f-bed9-4dcc-9ff8-056ffc0e794b",
   "metadata": {},
   "outputs": [],
   "source": [
    "from pathlib import Path\n",
    "\n",
    "import emoji\n",
    "from nltk import FreqDist\n",
    "from nltk.corpus import brown, gutenberg, words\n",
    "from nltk.tag import pos_tag\n",
    "\n",
    "from wordle import compare_guess"
   ]
  },
  {
   "cell_type": "code",
   "execution_count": 3,
   "id": "c26b8851-ce20-4f10-926f-549215b2db8c",
   "metadata": {},
   "outputs": [],
   "source": [
    "freqs = FreqDist(w for w in gutenberg.words() if len(w) == 5)"
   ]
  },
  {
   "cell_type": "code",
   "execution_count": 4,
   "id": "23b2a9c2-5f2f-4584-bb9c-48a2db6c11d1",
   "metadata": {},
   "outputs": [
    {
     "data": {
      "text/plain": [
       "FreqDist({'shall': 11456, 'which': 8435, 'their': 7516, 'there': 5225, 'would': 3932, 'could': 3528, 'house': 2850, 'great': 2769, 'every': 2710, 'about': 2530, ...})"
      ]
     },
     "execution_count": 4,
     "metadata": {},
     "output_type": "execute_result"
    }
   ],
   "source": [
    "freqs"
   ]
  },
  {
   "cell_type": "code",
   "execution_count": 5,
   "id": "79cfacad-fc01-4c67-83bf-75cca5259a26",
   "metadata": {},
   "outputs": [],
   "source": [
    "word_list = list(w for w, _ in freqs.most_common(1000))"
   ]
  },
  {
   "cell_type": "code",
   "execution_count": 6,
   "id": "f648ed2c-ef91-4576-8a1c-4b4e36f47cc6",
   "metadata": {},
   "outputs": [],
   "source": [
    "# Remove proper nouns\n",
    "word_list = sorted([w.lower()\n",
    "                   for w, tag in pos_tag(word_list) if tag != 'NNP'])"
   ]
  },
  {
   "cell_type": "code",
   "execution_count": 7,
   "id": "527a77c3-e90a-424a-aa0a-2743b01b7a79",
   "metadata": {},
   "outputs": [
    {
     "data": {
      "text/plain": [
       "840"
      ]
     },
     "execution_count": 7,
     "metadata": {},
     "output_type": "execute_result"
    }
   ],
   "source": [
    "len(word_list)"
   ]
  },
  {
   "cell_type": "code",
   "execution_count": 8,
   "id": "ef704d87-d7fb-4f9e-9415-d86507702ac9",
   "metadata": {},
   "outputs": [],
   "source": [
    "with Path(\"words.txt\").open(\"w\") as f:\n",
    "    for word in word_list:\n",
    "        f.write(word + \"\\n\")"
   ]
  },
  {
   "cell_type": "code",
   "execution_count": 9,
   "id": "ca4b3023-3a44-4d69-a3a1-be60a43e9c72",
   "metadata": {},
   "outputs": [],
   "source": [
    "with Path(\"words.txt\").open(\"r\") as f:\n",
    "    word_list = [w.strip() for w in f.readlines()]"
   ]
  },
  {
   "cell_type": "code",
   "execution_count": 10,
   "id": "7a579c60-843d-4034-9870-2764db4d3f36",
   "metadata": {},
   "outputs": [],
   "source": [
    "todays_letters = list(\"space\")"
   ]
  },
  {
   "cell_type": "code",
   "execution_count": 11,
   "id": "3554b3c7-e362-46d6-ba56-ae078d090b23",
   "metadata": {},
   "outputs": [],
   "source": [
    "guess = \"slice\""
   ]
  },
  {
   "cell_type": "code",
   "execution_count": 12,
   "id": "ba79c749-6d80-4a1b-b59a-0ffc69ef7707",
   "metadata": {},
   "outputs": [],
   "source": [
    "guess_letters = list(guess)"
   ]
  },
  {
   "cell_type": "code",
   "execution_count": 13,
   "id": "1e7c3c75-7ad2-462b-8b9f-52b50a39c4f8",
   "metadata": {},
   "outputs": [
    {
     "data": {
      "text/plain": [
       "['s', 'l', 'i', 'c', 'e']"
      ]
     },
     "execution_count": 13,
     "metadata": {},
     "output_type": "execute_result"
    }
   ],
   "source": [
    "guess_letters"
   ]
  },
  {
   "cell_type": "code",
   "execution_count": 14,
   "id": "49d0dd58-1f7a-4f10-b1e1-22c78abf3a0e",
   "metadata": {},
   "outputs": [],
   "source": [
    "res = compare_guess(todays_letters, guess_letters)"
   ]
  },
  {
   "cell_type": "code",
   "execution_count": 15,
   "id": "0714b100-1a0a-49b4-88a7-5e5a11091db4",
   "metadata": {},
   "outputs": [
    {
     "name": "stdout",
     "output_type": "stream",
     "text": [
      "s\tl\ti\tc\te\n",
      "🟩\t⬛\t⬛\t🟩\t🟩\n"
     ]
    }
   ],
   "source": [
    "print(\"\\t\".join(guess_letters))\n",
    "print(\"\\t\".join(res))"
   ]
  },
  {
   "cell_type": "code",
   "execution_count": 16,
   "id": "a56178a4-40fd-4754-a1ca-3342bc04811e",
   "metadata": {},
   "outputs": [
    {
     "data": {
      "text/plain": [
       "('🟩', '🟨', '⬛')"
      ]
     },
     "execution_count": 16,
     "metadata": {},
     "output_type": "execute_result"
    }
   ],
   "source": [
    "emoji.emojize(':green_square:'), emoji.emojize(\n",
    "    ':yellow_square:'), emoji.emojize(':black_large_square:')"
   ]
  },
  {
   "cell_type": "code",
   "execution_count": null,
   "id": "d667461f-f7b4-4905-8ba2-05130c385643",
   "metadata": {},
   "outputs": [],
   "source": []
  }
 ],
 "metadata": {
  "kernelspec": {
   "display_name": ".venv",
   "language": "python",
   "name": "python3"
  },
  "language_info": {
   "codemirror_mode": {
    "name": "ipython",
    "version": 3
   },
   "file_extension": ".py",
   "mimetype": "text/x-python",
   "name": "python",
   "nbconvert_exporter": "python",
   "pygments_lexer": "ipython3",
   "version": "3.12.2"
  }
 },
 "nbformat": 4,
 "nbformat_minor": 5
}
