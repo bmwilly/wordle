{
 "cells": [
  {
   "cell_type": "code",
   "execution_count": 1,
   "id": "9ec026ce-c3fe-4345-a8ca-952679a5b3d4",
   "metadata": {},
   "outputs": [],
   "source": [
    "from wordle import play"
   ]
  },
  {
   "cell_type": "code",
   "execution_count": null,
   "id": "20c4694c-055f-4e63-9007-cbcad7228dcb",
   "metadata": {},
   "outputs": [],
   "source": [
    "play()"
   ]
  },
  {
   "cell_type": "code",
   "execution_count": null,
   "id": "5249bff8-bec7-444a-b969-8ba4ca27d3b5",
   "metadata": {},
   "outputs": [],
   "source": []
  }
 ],
 "metadata": {
  "kernelspec": {
   "display_name": "Python [conda env:wordle]",
   "language": "python",
   "name": "conda-env-wordle-py"
  },
  "language_info": {
   "codemirror_mode": {
    "name": "ipython",
    "version": 3
   },
   "file_extension": ".py",
   "mimetype": "text/x-python",
   "name": "python",
   "nbconvert_exporter": "python",
   "pygments_lexer": "ipython3",
   "version": "3.9.9"
  }
 },
 "nbformat": 4,
 "nbformat_minor": 5
}
