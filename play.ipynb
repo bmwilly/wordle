{
 "cells": [
  {
   "cell_type": "code",
   "execution_count": 1,
   "id": "9ec026ce-c3fe-4345-a8ca-952679a5b3d4",
   "metadata": {},
   "outputs": [],
   "source": [
    "from wordle import play"
   ]
  },
  {
   "cell_type": "code",
   "execution_count": 2,
   "id": "20c4694c-055f-4e63-9007-cbcad7228dcb",
   "metadata": {},
   "outputs": [
    {
     "name": "stdin",
     "output_type": "stream",
     "text": [
      "Your guess slice\n"
     ]
    },
    {
     "name": "stdout",
     "output_type": "stream",
     "text": [
      "['⬛', '⬛', '⬛', '⬛', '🟩']\n"
     ]
    },
    {
     "name": "stdin",
     "output_type": "stream",
     "text": [
      "Your guess cream\n"
     ]
    },
    {
     "name": "stdout",
     "output_type": "stream",
     "text": [
      "['⬛', '🟨', '🟨', '⬛', '⬛']\n"
     ]
    },
    {
     "name": "stdin",
     "output_type": "stream",
     "text": [
      "Your guess brave\n"
     ]
    },
    {
     "name": "stdout",
     "output_type": "stream",
     "text": [
      "['⬛', '🟨', '⬛', '⬛', '🟩']\n"
     ]
    },
    {
     "name": "stdin",
     "output_type": "stream",
     "text": [
      "Your guess proud\n"
     ]
    },
    {
     "name": "stdout",
     "output_type": "stream",
     "text": [
      "['⬛', '🟨', '🟩', '⬛', '🟨']\n"
     ]
    },
    {
     "name": "stdin",
     "output_type": "stream",
     "text": [
      "Your guess trode\n"
     ]
    },
    {
     "name": "stdout",
     "output_type": "stream",
     "text": [
      "['⬛', '🟨', '🟩', '🟩', '🟩']\n"
     ]
    },
    {
     "name": "stdin",
     "output_type": "stream",
     "text": [
      "Your guess reode\n"
     ]
    },
    {
     "name": "stdout",
     "output_type": "stream",
     "text": [
      "['🟩', '🟨', '🟩', '🟩', '🟩']\n",
      "You lost! The correct word was 'rhode'.\n",
      "[['⬛', '⬛', '⬛', '⬛', '🟩'], ['⬛', '🟨', '🟨', '⬛', '⬛'], ['⬛', '🟨', '⬛', '⬛', '🟩'], ['⬛', '🟨', '🟩', '⬛', '🟨'], ['⬛', '🟨', '🟩', '🟩', '🟩'], ['🟩', '🟨', '🟩', '🟩', '🟩']]\n"
     ]
    }
   ],
   "source": [
    "play()"
   ]
  },
  {
   "cell_type": "code",
   "execution_count": null,
   "id": "5249bff8-bec7-444a-b969-8ba4ca27d3b5",
   "metadata": {},
   "outputs": [],
   "source": []
  }
 ],
 "metadata": {
  "kernelspec": {
   "display_name": "Python [conda env:default] *",
   "language": "python",
   "name": "conda-env-default-py"
  },
  "language_info": {
   "codemirror_mode": {
    "name": "ipython",
    "version": 3
   },
   "file_extension": ".py",
   "mimetype": "text/x-python",
   "name": "python",
   "nbconvert_exporter": "python",
   "pygments_lexer": "ipython3",
   "version": "3.9.9"
  }
 },
 "nbformat": 4,
 "nbformat_minor": 5
}
